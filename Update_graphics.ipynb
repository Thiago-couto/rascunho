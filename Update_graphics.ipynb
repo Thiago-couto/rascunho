{
  "nbformat": 4,
  "nbformat_minor": 0,
  "metadata": {
    "colab": {
      "provenance": []
    },
    "kernelspec": {
      "name": "python3",
      "display_name": "Python 3"
    },
    "language_info": {
      "name": "python"
    }
  },
  "cells": [
    {
      "cell_type": "markdown",
      "source": [
        "# **Gerando Grafico: Faixa Idade**\n"
      ],
      "metadata": {
        "id": "3QQSL9W2P5eb"
      }
    },
    {
      "cell_type": "code",
      "execution_count": null,
      "metadata": {
        "id": "_gNZmo9_SsBY"
      },
      "outputs": [],
      "source": [
        "import plotly.graph_objects as go\n",
        "Idade = ['17-21','22-24','25-29','30-34', '35-39','40-44', '45-49', '50-54', \"55+\"]\n",
        "Quantidade = [87, 337, 1084, 767, 367, 166, 58, 28, 13]\n",
        "cores_marcadores = [\"khaki\", \"MediumSeaGreen\", \"crimson\", \"limegreen\", \"tomato\",\"Aqua\", \"Navy\", \"Purple\", \"Gray\"]\n",
        "fig = go.Figure(data = go.Pie(labels = Idade,\n",
        "                             values = Quantidade,\n",
        "                              marker_colors = cores_marcadores,))\n",
        "fig.update_traces(textposition = \"outside\", textinfo = \"percent+label\")\n",
        "fig.show()"
      ]
    },
    {
      "cell_type": "markdown",
      "source": [
        "# **Gerando Grafico: Gênero**"
      ],
      "metadata": {
        "id": "Xav945x-Q8t2"
      }
    },
    {
      "cell_type": "code",
      "source": [
        "import plotly.graph_objects as go\n",
        "Gênero = ['Feminino','Masculino','Outro',\"Prefiro não informar\"]\n",
        "Quantidade = [687, 2206, 4, 10]\n",
        "cores_marcadores = [\"Navy\", \"IndianRed\", \"Yellow\", \"MediumSeaGreen\"]\n",
        "fig = go.Figure(data = go.Pie(labels = Gênero,\n",
        "                             values = Quantidade,\n",
        "                              marker_colors = cores_marcadores,))\n",
        "fig.update_traces(textposition = \"outside\", textinfo = \"percent+label\")\n",
        "fig.show()"
      ],
      "metadata": {
        "id": "WjxmelyBZ_YM"
      },
      "execution_count": null,
      "outputs": []
    },
    {
      "cell_type": "markdown",
      "source": [
        "# **Gerando Grafico: Faixa Salarial**"
      ],
      "metadata": {
        "id": "maY1pHcGRCTm"
      }
    },
    {
      "cell_type": "code",
      "execution_count": null,
      "metadata": {
        "id": "1k_QUF3OcyOh"
      },
      "outputs": [],
      "source": [
        "import plotly.graph_objects as go\n",
        "Salarial = ['-1.000','1.000-2.000','2.001-3.000','3.001-4.000', '4.001-6.000','6.001-8.000', '8.001-12.000', '12.001-16.000', '16.001-20.000', '20.001-25.000', '25.001-30.000', '30.001-40.000', \"40.001+\"]\n",
        "Quantidade = [14, 137, 163, 239, 542, 447, 733, 378, 122, 61, 30, 27, 14]\n",
        "cores_marcadores = [\"khaki\", \"MediumSeaGreen\", \"crimson\", \"limegreen\", \"tomato\",\"Aqua\", \"Navy\", \"Purple\", \"Gray\", \"Lightsalmon\", \"Green\", \"Maroon\", \"Violet\"]\n",
        "fig = go.Figure(data = go.Pie(labels = Salarial,\n",
        "                             values = Quantidade,\n",
        "                              marker_colors = cores_marcadores,))\n",
        "fig.update_traces(textposition = \"outside\")\n",
        "fig.show()"
      ]
    },
    {
      "cell_type": "markdown",
      "source": [
        "# **Gerando Grafico: Nível de Experiência**"
      ],
      "metadata": {
        "id": "bxotdBXZREy2"
      }
    },
    {
      "cell_type": "code",
      "source": [
        "import plotly.graph_objects as go\n",
        "Experiência = ['-1','1-2','3-4','4-5', '5-6','7-10', '10+', \"Não possui\"]\n",
        "Quantidade = [282, 897, 788, 293, 229, 212, 198, 8]\n",
        "cores_marcadores = [\"khaki\", \"MediumSeaGreen\", \"crimson\", \"limegreen\", \"tomato\",\"Aqua\", \"Navy\", \"Purple\"]\n",
        "fig = go.Figure(data = go.Pie(labels = Experiência,\n",
        "                             values = Quantidade,\n",
        "                              marker_colors = cores_marcadores,))\n",
        "fig.update_traces(textposition = \"outside\", textinfo = \"percent+label\")\n",
        "fig.show()"
      ],
      "metadata": {
        "id": "Rrz4UXPkfpmK"
      },
      "execution_count": null,
      "outputs": []
    },
    {
      "cell_type": "markdown",
      "source": [
        "# **Gerando Grafico: Raça, Cor, etnia**"
      ],
      "metadata": {
        "id": "YYSwLkBIRJFW"
      }
    },
    {
      "cell_type": "code",
      "source": [
        "import plotly.graph_objects as go\n",
        "Cor = ['Amarela','Branca','Indígena','Outra','Parda','Prefiro não informar',\"Preta\"]\n",
        "Quantidade = [84, 1876, 7, 5, 700, 22, 213]\n",
        "cores_marcadores = [\"Navy\", \"Teal\", \"Yellow\", \"Chocolate\", \"Crimson\", \"limegreen\", \"MediumPurple\"]\n",
        "fig = go.Figure(data = go.Pie(labels = Cor,\n",
        "                             values = Quantidade,\n",
        "                              marker_colors = cores_marcadores,))\n",
        "fig.update_traces(textposition = \"outside\", textinfo = \"percent+label\")\n",
        "fig.show()"
      ],
      "metadata": {
        "id": "ZOo2gsn6hopP"
      },
      "execution_count": null,
      "outputs": []
    },
    {
      "cell_type": "markdown",
      "source": [
        "# **Gerando Grafico: Região**"
      ],
      "metadata": {
        "id": "fdzsxQPVROc6"
      }
    },
    {
      "cell_type": "code",
      "source": [
        "import plotly.graph_objects as go\n",
        "Região = ['Centro-oeste','Nordeste','Norte','Sudeste',\"Sul\"]\n",
        "Quantidade = [184, 327, 42, 1772, 582]\n",
        "cores_marcadores = [\"Navy\", \"IndianRed\", \"Yellow\", \"MediumSeaGreen\", \"Purple\"]\n",
        "fig = go.Figure(data = go.Pie(labels = Região,\n",
        "                             values = Quantidade,\n",
        "                              marker_colors = cores_marcadores,))\n",
        "fig.update_traces(textposition = \"outside\", textinfo = \"percent+label\")\n",
        "fig.show()"
      ],
      "metadata": {
        "id": "lXwKANWNjcDU"
      },
      "execution_count": null,
      "outputs": []
    },
    {
      "cell_type": "markdown",
      "source": [
        "# **Gerando Grafico: Nível de Ensino**"
      ],
      "metadata": {
        "id": "eFFRnc7CRQ2g"
      }
    },
    {
      "cell_type": "code",
      "source": [
        "import plotly.graph_objects as go\n",
        "Ensino = ['Doutorado ou Phd','Estudante Graduação','Mestrado','Graduação/Bacharelado',\"Pós-graduação\"]\n",
        "Quantidade = [112, 363, 373, 1130, 929]\n",
        "cores_marcadores = [\"Navy\", \"IndianRed\", \"Yellow\", \"MediumSeaGreen\", \"Purple\"]\n",
        "fig = go.Figure(data = go.Pie(labels = Ensino,\n",
        "                             values = Quantidade,\n",
        "                              marker_colors = cores_marcadores,))\n",
        "fig.update_traces(textposition = \"outside\", textinfo = \"percent+label\")\n",
        "fig.show()"
      ],
      "metadata": {
        "id": "v4z3gWqikH_N"
      },
      "execution_count": null,
      "outputs": []
    },
    {
      "cell_type": "markdown",
      "source": [
        "# **Gerando Grafico: Situação Empresarial**"
      ],
      "metadata": {
        "id": "QnXngix3RUPW"
      }
    },
    {
      "cell_type": "code",
      "source": [
        "import plotly.graph_objects as go\n",
        "Situação = ['Empregado (CNPJ)','Empregado (CLT)','Estagiário','Freelancer','Servidor Público','Prefiro não informar',\"Empresa de fora do Brasil\"]\n",
        "Quantidade = [264, 2326, 168, 15, 51, 3, 80]\n",
        "cores_marcadores = [\"Navy\", \"Teal\", \"Yellow\", \"Chocolate\", \"Crimson\", \"limegreen\", \"MediumPurple\"]\n",
        "fig = go.Figure(data = go.Pie(labels = Situação,\n",
        "                             values = Quantidade,\n",
        "                              marker_colors = cores_marcadores,))\n",
        "fig.update_traces(textposition = \"outside\", textinfo = \"percent+label\")\n",
        "fig.show()"
      ],
      "metadata": {
        "id": "jD51tdmalVnl"
      },
      "execution_count": null,
      "outputs": []
    },
    {
      "cell_type": "markdown",
      "source": [
        "# **Gerando Grafico: Cargo Atual**"
      ],
      "metadata": {
        "id": "d6ooy-MORYty"
      }
    },
    {
      "cell_type": "code",
      "source": [
        "import plotly.graph_objects as go\n",
        "Cargo = ['Analista de BI','Analista de Dados','Analista de Inteligência de Mercado','Cientista de Dados', 'Data Product Manager','Administrador de Banco de Dados', 'Engenheiro de Dados/Arquiteto de Dados', 'Engenheiro de Machine Learning',\"Estatístico\"]\n",
        "Quantidade = [489, 874, 37, 665, 79, 19, 651, 72, 21]\n",
        "cores_marcadores = [\"khaki\", \"MediumSeaGreen\", \"Gray\",\"Aqua\", \"Navy\", \"Purple\", \"tomato\", \"Lightsalmon\", \"Violet\"]\n",
        "fig = go.Figure(data = go.Pie(labels = Cargo,\n",
        "                             values = Quantidade,\n",
        "                              marker_colors = cores_marcadores,))\n",
        "fig.update_traces(textposition = \"outside\", textinfo = \"percent+label\")\n",
        "fig.show()"
      ],
      "metadata": {
        "id": "IqtYRZbCmTqr"
      },
      "execution_count": null,
      "outputs": []
    },
    {
      "cell_type": "markdown",
      "source": [
        "# **Gerando Grafico: Área de Formação**"
      ],
      "metadata": {
        "id": "YhoM3ZEBRbtd"
      }
    },
    {
      "cell_type": "code",
      "source": [
        "import plotly.graph_objects as go\n",
        "Formação = ['Ciências Biológicas','Ciências Sociais','Computação','Economia', 'Estatística','Marketing', 'Outra opção', 'Outras Engenharias', \"Química / Física\"]\n",
        "Quantidade = [58, 46, 1231, 397, 230, 56, 139, 661, 89]\n",
        "cores_marcadores = [\"khaki\", \"MediumSeaGreen\", \"crimson\", \"limegreen\", \"tomato\",\"Aqua\", \"Navy\", \"Purple\", \"Gray\"]\n",
        "fig = go.Figure(data = go.Pie(labels = Formação,\n",
        "                             values = Quantidade,\n",
        "                              marker_colors = cores_marcadores,))\n",
        "fig.update_traces(textposition = \"outside\", textinfo = \"percent+label\")\n",
        "fig.show()"
      ],
      "metadata": {
        "id": "fBEAGEIAojDy"
      },
      "execution_count": null,
      "outputs": []
    },
    {
      "cell_type": "markdown",
      "source": [
        "# **Gerando Grafico: Estados**"
      ],
      "metadata": {
        "id": "Y1MHQKikRfa0"
      }
    },
    {
      "cell_type": "code",
      "source": [
        "import matplotlib.pyplot as plt\n",
        "x = ['AL', 'AP', 'AM', 'BA', 'CE', 'DF', 'ES', 'GO', 'MA', 'MT', 'MS', 'MG', 'PA', 'PB', 'PR', 'PE', 'PI', 'RJ', 'RN', 'RS', 'RO', 'SC', 'SP', 'SE', 'TO']\n",
        "y = [17, 2, 15, 71, 77, 92, 67, 50, 9, 29, 13, 321, 18, 38, 265, 67, 8, 258, 24, 173, 4, 144, 1126, 16, 3]\n",
        "eixox = \"Estados\"\n",
        "eixoy = \"Quantidade\"\n",
        "plt.barh(x, y, label='Estados', height=0.6)\n",
        "plt.xlabel('Quantidade')\n",
        "plt.ylabel('Estados')\n",
        "plt.show()"
      ],
      "metadata": {
        "id": "9kemDcFSqoqA"
      },
      "execution_count": null,
      "outputs": []
    },
    {
      "cell_type": "markdown",
      "source": [
        "# **Gerando Grafico 2 variáveis: Área de Formação / Faixa Salarial**"
      ],
      "metadata": {
        "id": "uL4zRstxdOxK"
      }
    },
    {
      "cell_type": "code",
      "source": [
        "import matplotlib.pyplot as plt\n",
        "import numpy as np\n",
        "\n",
        "categorias = ['Categoria A', 'Categoria B', 'Categoria C']\n",
        "grupo1 = [10, 15, 7]\n",
        "grupo2 = [12, 18, 5]\n",
        "\n",
        "x = np.arange(len(categorias))\n",
        "\n",
        "largura = 0.2\n",
        "\n",
        "fig, ax = plt.subplots()\n",
        "barras1 = ax.bar(x - largura/2, grupo1, largura, label='Grupo 1')\n",
        "barras2 = ax.bar(x + largura/2, grupo2, largura, label='Grupo 2')\n",
        "\n",
        "ax.set_xlabel('Categorias')\n",
        "ax.set_ylabel('Valores')\n",
        "ax.set_title('Gráfico de Barras Agrupadas')\n",
        "ax.set_xticks(x)\n",
        "ax.set_xticklabels(categorias)\n",
        "ax.legend()\n",
        "\n",
        "plt.show()"
      ],
      "metadata": {
        "id": "IMtV0jHgc85x"
      },
      "execution_count": null,
      "outputs": []
    },
    {
      "cell_type": "markdown",
      "source": [
        "# **Gerando Grafico 2 variáveis: Idade / Gênero**"
      ],
      "metadata": {
        "id": "E33rlOMMeHqn"
      }
    },
    {
      "cell_type": "code",
      "source": [
        "import matplotlib.pyplot as plt\n",
        "import numpy as np\n",
        "\n",
        "categorias = ['Categoria A', 'Categoria B', 'Categoria C']\n",
        "grupo1 = [10, 15, 7]\n",
        "grupo2 = [12, 18, 5]\n",
        "\n",
        "x = np.arange(len(categorias))\n",
        "\n",
        "largura = 0.2\n",
        "\n",
        "fig, ax = plt.subplots()\n",
        "barras1 = ax.bar(x - largura/2, grupo1, largura, label='Grupo 1')\n",
        "barras2 = ax.bar(x + largura/2, grupo2, largura, label='Grupo 2')\n",
        "\n",
        "ax.set_xlabel('Categorias')\n",
        "ax.set_ylabel('Valores')\n",
        "ax.set_title('Gráfico de Barras Agrupadas')\n",
        "ax.set_xticks(x)\n",
        "ax.set_xticklabels(categorias)\n",
        "ax.legend()\n",
        "\n",
        "plt.show()"
      ],
      "metadata": {
        "id": "yEg4SeIDeUTq"
      },
      "execution_count": null,
      "outputs": []
    },
    {
      "cell_type": "markdown",
      "source": [
        "# **Gerando Grafico 2 variáveis: Nível de experiência / Cargo atual**"
      ],
      "metadata": {
        "id": "sdmV1xmNeXaI"
      }
    },
    {
      "cell_type": "code",
      "source": [
        "import matplotlib.pyplot as plt\n",
        "import numpy as np\n",
        "\n",
        "categorias = ['Categoria A', 'Categoria B', 'Categoria C']\n",
        "grupo1 = [10, 15, 7]\n",
        "grupo2 = [12, 18, 5]\n",
        "\n",
        "x = np.arange(len(categorias))\n",
        "\n",
        "largura = 0.2\n",
        "\n",
        "fig, ax = plt.subplots()\n",
        "barras1 = ax.bar(x - largura/2, grupo1, largura, label='Grupo 1')\n",
        "barras2 = ax.bar(x + largura/2, grupo2, largura, label='Grupo 2')\n",
        "\n",
        "ax.set_xlabel('Categorias')\n",
        "ax.set_ylabel('Valores')\n",
        "ax.set_title('Gráfico de Barras Agrupadas')\n",
        "ax.set_xticks(x)\n",
        "ax.set_xticklabels(categorias)\n",
        "ax.legend()\n",
        "\n",
        "plt.show()"
      ],
      "metadata": {
        "id": "XHs6YS9KehMq"
      },
      "execution_count": null,
      "outputs": []
    },
    {
      "cell_type": "markdown",
      "source": [
        "# **Gerando Grafico 2 variáveis: Faixa Etária / Nível na Empresa**"
      ],
      "metadata": {
        "id": "DOoDUYQ2ekn4"
      }
    },
    {
      "cell_type": "code",
      "source": [
        "import matplotlib.pyplot as plt\n",
        "import numpy as np\n",
        "\n",
        "categorias = ['Categoria A', 'Categoria B', 'Categoria C']\n",
        "grupo1 = [10, 15, 7]\n",
        "grupo2 = [12, 18, 5]\n",
        "\n",
        "x = np.arange(len(categorias))\n",
        "\n",
        "largura = 0.2\n",
        "\n",
        "fig, ax = plt.subplots()\n",
        "barras1 = ax.bar(x - largura/2, grupo1, largura, label='Grupo 1')\n",
        "barras2 = ax.bar(x + largura/2, grupo2, largura, label='Grupo 2')\n",
        "\n",
        "ax.set_xlabel('Categorias')\n",
        "ax.set_ylabel('Valores')\n",
        "ax.set_title('Gráfico de Barras Agrupadas')\n",
        "ax.set_xticks(x)\n",
        "ax.set_xticklabels(categorias)\n",
        "ax.legend()\n",
        "\n",
        "plt.show()"
      ],
      "metadata": {
        "id": "85Pg6RMse9mj"
      },
      "execution_count": null,
      "outputs": []
    },
    {
      "cell_type": "markdown",
      "source": [
        "# **Gerando Grafico 2 variáveis: Nível na Empresa / Salário**"
      ],
      "metadata": {
        "id": "HlQDsqdCeoEt"
      }
    },
    {
      "cell_type": "code",
      "source": [
        "import matplotlib.pyplot as plt\n",
        "import numpy as np\n",
        "\n",
        "categorias = ['Categoria A', 'Categoria B', 'Categoria C']\n",
        "grupo1 = [10, 15, 7]\n",
        "grupo2 = [12, 18, 5]\n",
        "\n",
        "x = np.arange(len(categorias))\n",
        "\n",
        "largura = 0.2\n",
        "\n",
        "fig, ax = plt.subplots()\n",
        "barras1 = ax.bar(x - largura/2, grupo1, largura, label='Grupo 1')\n",
        "barras2 = ax.bar(x + largura/2, grupo2, largura, label='Grupo 2')\n",
        "\n",
        "ax.set_xlabel('Categorias')\n",
        "ax.set_ylabel('Valores')\n",
        "ax.set_title('Gráfico de Barras Agrupadas')\n",
        "ax.set_xticks(x)\n",
        "ax.set_xticklabels(categorias)\n",
        "ax.legend()\n",
        "\n",
        "plt.show()"
      ],
      "metadata": {
        "id": "W8CElDyle_CK"
      },
      "execution_count": null,
      "outputs": []
    },
    {
      "cell_type": "markdown",
      "source": [],
      "metadata": {
        "id": "bt7DM7d2eo6n"
      }
    }
  ]
}